{
  "nbformat": 4,
  "nbformat_minor": 0,
  "metadata": {
    "colab": {
      "name": "Untitled0.ipynb",
      "provenance": [],
      "collapsed_sections": []
    },
    "kernelspec": {
      "name": "python3",
      "display_name": "Python 3"
    }
  },
  "cells": [
    {
      "cell_type": "code",
      "metadata": {
        "id": "udoq38uwEis8"
      },
      "source": [
        "# Manikandan V\r\n",
        "# Checked working on Windows 10\r\n",
        "# Run the notebook to check the working.\r\n",
        "# Code takes care of all the errors mentioned and the other cases"
      ],
      "execution_count": 1,
      "outputs": []
    },
    {
      "cell_type": "code",
      "metadata": {
        "id": "YWC01UIaEqTx"
      },
      "source": [
        "# Links for reference:\r\n",
        "# https://en.wikipedia.org/wiki/Key%E2%80%93value_database\r\n",
        "# https://www.w3schools.com/js/js_json_objects.asp\r\n",
        "# https://en.wikipedia.org/wiki/Thread_safety"
      ],
      "execution_count": 2,
      "outputs": []
    },
    {
      "cell_type": "code",
      "metadata": {
        "id": "RhhUC6DXEz05"
      },
      "source": [
        "import time\r\n",
        "import sys\r\n",
        "import threading \r\n",
        "from threading import *"
      ],
      "execution_count": 3,
      "outputs": []
    },
    {
      "cell_type": "markdown",
      "metadata": {
        "id": "JZzRIYmWGnTG"
      },
      "source": [
        "**SERVER**"
      ]
    },
    {
      "cell_type": "code",
      "metadata": {
        "id": "tRTZwHJ1GuC-"
      },
      "source": [
        "datastore = {}"
      ],
      "execution_count": 4,
      "outputs": []
    },
    {
      "cell_type": "code",
      "metadata": {
        "id": "dtRQ_aeDG1xt"
      },
      "source": [
        "def create(key,value,timeout=0):                                                              # timeout provided in seconds \r\n",
        "    if key in datastore:\r\n",
        "        print(\"Error :( Key already exists in the datastore.\")                                # error msg\r\n",
        "    else:\r\n",
        "        if(key.isalpha()):                                                                    # string key      #1073741824 bytes ==1 Gb   \r\n",
        "            if sys.getsizeof(datastore)<(1073741824) and sys.getsizeof(value)<=(16*1024): # Check file size<=1GB and Json obj size<=16kb \r\n",
        "                if timeout==0:\r\n",
        "                    l=[value,-1]\r\n",
        "                else:\r\n",
        "                    l=[value,time.time()+timeout]                                             # adding timeout incase its not zero\r\n",
        "                if len(key)<=32:                                                              # key is max of 32 chars\r\n",
        "                    datastore[key]=l \r\n",
        "            else:\r\n",
        "                print(\"Error :( Memory exceeded\")                                             # error msg\r\n",
        "        else:\r\n",
        "            print(\"Error :( Key should have alphabet only\")                                   # error msg"
      ],
      "execution_count": 6,
      "outputs": []
    },
    {
      "cell_type": "code",
      "metadata": {
        "id": "qgVSltJHHAXP"
      },
      "source": [
        "def delete(key):\r\n",
        "    if key not in datastore:\r\n",
        "        print(\"Error :( Key is not in Datastore\")                                             # error msg\r\n",
        "    else:\r\n",
        "        list=datastore[key]\r\n",
        "        if list[1]!=-1:    # time to live parameter isnt -1(means its provided by user)\r\n",
        "            current_time=time.time()\r\n",
        "            if current_time<list[1]:                                                          # Expiry & current time compared\r\n",
        "                del datastore[key]\r\n",
        "                print(\"Success :) key is now been deleted\")\r\n",
        "            else:\r\n",
        "                print(\"Error :( time to live off has been expired\")     # error as time to live has expired so cant delete it\r\n",
        "        else:                                                           # time to live is -1 then just delete the key\r\n",
        "            del datastore[key]\r\n",
        "            print(\"Success! key is now deleted\")"
      ],
      "execution_count": 7,
      "outputs": []
    },
    {
      "cell_type": "code",
      "metadata": {
        "id": "7K8TELDWHH7B"
      },
      "source": [
        "def read(key):\r\n",
        "    if key not in datastore:\r\n",
        "        print(\"Error :( Key is not in Datastore\")                                             # error msg\r\n",
        "    else:\r\n",
        "        list=datastore[key]\r\n",
        "        if list[1]!=-1:                # time to live parameter isnt -1(means it's provided by user)\r\n",
        "            current_time=time.time()\r\n",
        "            if current_time<list[1]:                                                          # Expiry & current time compared\r\n",
        "                response=str(key)+\" : \"+str(list[0])                                          # Key - JSon pair returned from DB\r\n",
        "                return response\r\n",
        "            else:\r\n",
        "                print(\"Error :( time to live off has been expired\")                           # error msg\r\n",
        "        else:\r\n",
        "            response =str(key)+\" : \"+str(list[0])\r\n",
        "            return response"
      ],
      "execution_count": 8,
      "outputs": []
    },
    {
      "cell_type": "markdown",
      "metadata": {
        "id": "eD9aFop3HO8w"
      },
      "source": [
        "**CLIENT**"
      ]
    },
    {
      "cell_type": "markdown",
      "metadata": {
        "id": "Nw6yp4z3HR7A"
      },
      "source": [
        "***Testcase-1***"
      ]
    },
    {
      "cell_type": "code",
      "metadata": {
        "colab": {
          "base_uri": "https://localhost:8080/"
        },
        "id": "A_VK_ZoGHVLs",
        "outputId": "b2ba7555-ec83-4c04-a440-b500c332da84"
      },
      "source": [
        "json1={  \"Name\": \"Manikantan\",\r\n",
        "  \"Rollno\": \"EC17B1033\",\r\n",
        "  \"Marks\": 95}\r\n",
        "\r\n",
        "create(\"Student\",json1)                                      # to create a key with key & json obj given and no time-to-live property\r\n",
        "\r\n",
        "json2=[28,7]\r\n",
        "create(\"Number\",json2,200)# to create a key with key & json obj given and with time-to-live property value given(number of seconds)\r\n",
        "\r\n",
        "print(read(\"Student\"))                                                # PRINTS key in Json object format 'key_name:value'\r\n",
        "\r\n",
        "print(read(\"Number\")) # PRINTS key in Json object format 'key_name:value' if the (time to live) is not expired else it throws an ERROR\r\n",
        "\r\n",
        "json3={\"Nameid\":\"lala123\"}\r\n",
        "create(\"Student\",json3)\r\n",
        "# this returns an error since the key_name already present in datastore\r\n",
        " \r\n",
        "delete(\"Student\")\r\n",
        "# this deletes the given key & json obj from datastore\r\n",
        "\r\n",
        "# #Using Multi threading\r\n",
        "json4=[\"Merry\",\"Christmas\"]\r\n",
        "thread1=Thread(target=(create),args=(\"moker\",json4))                  # as per the operation\r\n",
        "thread1.start()\r\n",
        "thread2=Thread(target=(delete),args=(\"moker\",))                       # as per the operation\r\n",
        "thread2.start()\r\n",
        "\r\n",
        "print(\"Final datastore\",datastore)"
      ],
      "execution_count": 9,
      "outputs": [
        {
          "output_type": "stream",
          "text": [
            "Student : {'Name': 'Manikantan', 'Rollno': 'EC17B1033', 'Marks': 95}\n",
            "Number : [28, 7]\n",
            "Error :( Key already exists in the datastore.\n",
            "Success! key is now deleted\n",
            "Success! key is now deleted\n",
            "Final datastore {'Number': [[28, 7], 1609323402.4082234]}\n"
          ],
          "name": "stdout"
        }
      ]
    },
    {
      "cell_type": "markdown",
      "metadata": {
        "id": "7BezmZ7kHpF_"
      },
      "source": [
        "***Testcase-2***"
      ]
    },
    {
      "cell_type": "code",
      "metadata": {
        "colab": {
          "base_uri": "https://localhost:8080/"
        },
        "id": "s2xpaE53HsB7",
        "outputId": "9eaa722f-63e0-47d4-d0c7-13ef9fcc3f37"
      },
      "source": [
        "delete(\"lalalala\")\r\n",
        "\r\n",
        "json1={  \"Name\": \"Manikantan\",\r\n",
        "  \"Rollno\": \"EC17B1033\",\r\n",
        "  \"Marks\": 95}\r\n",
        "\r\n",
        "create(\"Student1\",json1)\r\n",
        "#Error! as alphanumeric key with key & json obj given and no time-to-live property\r\n",
        "\r\n",
        "json2=[28,7]\r\n",
        "create(\"Numbers\",json2,30) \r\n",
        "#to create a key with key & json obj given and with time-to-live property value given(number of seconds) as just 10 secs\r\n",
        "\r\n",
        "print(read(\"Numbers\"))\r\n",
        "#PRINTS key in Json object format 'key_name:value' if the (time to live) is not expired else it throws an ERROR !\r\n",
        "\r\n",
        "json3={\"Nameid\":\"lala123\"}\r\n",
        "create(\"Employee\",json3)\r\n",
        "\r\n",
        "print(\"Final datastore\",datastore)"
      ],
      "execution_count": 10,
      "outputs": [
        {
          "output_type": "stream",
          "text": [
            "Error :( Key is not in Datastore\n",
            "Error :( Key should have alphabet only\n",
            "Numbers : [28, 7]\n",
            "Final datastore {'Number': [[28, 7], 1609323402.4082234], 'Numbers': [[28, 7], 1609323320.8328054], 'Employee': [{'Nameid': 'lala123'}, -1]}\n"
          ],
          "name": "stdout"
        }
      ]
    },
    {
      "cell_type": "code",
      "metadata": {
        "colab": {
          "base_uri": "https://localhost:8080/"
        },
        "id": "con-X2IrHy9D",
        "outputId": "d3a659cc-230f-4e81-eb45-6508a924252d"
      },
      "source": [
        "print(read(\"Numbers\"))"
      ],
      "execution_count": 11,
      "outputs": [
        {
          "output_type": "stream",
          "text": [
            "Error :( time to live off has been expired\n",
            "None\n"
          ],
          "name": "stdout"
        }
      ]
    }
  ]
}