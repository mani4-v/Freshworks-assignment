{
  "nbformat": 4,
  "nbformat_minor": 0,
  "metadata": {
    "colab": {
      "name": "Freshworks_assignment.ipynb",
      "provenance": [],
      "collapsed_sections": []
    },
    "kernelspec": {
      "name": "python3",
      "display_name": "Python 3"
    }
  },
  "cells": [
    {
      "cell_type": "code",
      "metadata": {
        "id": "5fin0oOvQWgl"
      },
      "source": [
        "# Manikandan V \r\n",
        "# Run the code to check the working\r\n",
        "# Checked working on Windows 10\r\n",
        "# Code takes care of all the errors mentioned and the corner cases"
      ],
      "execution_count": null,
      "outputs": []
    },
    {
      "cell_type": "code",
      "metadata": {
        "id": "dyPwWC6kQSJN"
      },
      "source": [
        "# Links for reference:\r\n",
        "# https://en.wikipedia.org/wiki/Key%E2%80%93value_database\r\n",
        "# https://www.w3schools.com/js/js_json_objects.asp\r\n",
        "# https://en.wikipedia.org/wiki/Thread_safety"
      ],
      "execution_count": 11,
      "outputs": []
    },
    {
      "cell_type": "code",
      "metadata": {
        "id": "QeQ6340pLWOB"
      },
      "source": [
        "import time\r\n",
        "import sys\r\n",
        "import threading \r\n",
        "from threading import*"
      ],
      "execution_count": null,
      "outputs": []
    },
    {
      "cell_type": "code",
      "metadata": {
        "id": "_lOtGO74LyYZ"
      },
      "source": [
        "map={} # global data storage"
      ],
      "execution_count": null,
      "outputs": []
    },
    {
      "cell_type": "code",
      "metadata": {
        "id": "3Q1HHH_dL2tR"
      },
      "source": [
        "def create(key,value,timeout=0):  # timeout provided in seconds \r\n",
        "    if key in map:\r\n",
        "        print(\"Error !! Key is already stored\") #error mmsg\r\n",
        "    else:\r\n",
        "        if(key.isalpha()):   # string key      #1073741824 bytes ==1 Gb   \r\n",
        "            if sys.getsizeof(map)<(1073741824) and sys.getsizeof(value)<=(16*1024): #Check file size<=1GB and Json obj size<=16kb \r\n",
        "                if timeout==0:\r\n",
        "                    l=[value,-1]\r\n",
        "                else:\r\n",
        "                    l=[value,time.time()+timeout]  #adding timeout incase its not zero\r\n",
        "                if len(key)<=32:# key is max of 32 chars\r\n",
        "                    map[key]=l \r\n",
        "            else:\r\n",
        "                print(\"Error !! Memory limit\")#error mssg\r\n",
        "        else:\r\n",
        "            print(\"Error !! Key should have alphabet only\")#error mssg"
      ],
      "execution_count": null,
      "outputs": []
    },
    {
      "cell_type": "code",
      "metadata": {
        "id": "JuzIpXJyMK4L"
      },
      "source": [
        "def delete(key):\r\n",
        "    if key not in map:\r\n",
        "        print(\"Error !! Key is not in Database\") #error mssg\r\n",
        "    else:\r\n",
        "        list=map[key]\r\n",
        "        if list[1]!=-1: # time to live parameter isnt -1(means its provided by user)\r\n",
        "            current_time=time.time()\r\n",
        "            if current_time<list[1]: #Expiry & current time compared\r\n",
        "                del map[key]\r\n",
        "                print(\"Success! key is now deleted\")\r\n",
        "            else:\r\n",
        "                print(\"Error !! time to live off  expired\") #error as time to live has expired so cant delete it\r\n",
        "        else:# time to live is -1 then just delete the key\r\n",
        "            del map[key]\r\n",
        "            print(\"Success! key is now deleted\")"
      ],
      "execution_count": null,
      "outputs": []
    },
    {
      "cell_type": "code",
      "metadata": {
        "id": "_N_fW_5PMRgD"
      },
      "source": [
        "def read(key):\r\n",
        "    if key not in map:\r\n",
        "        print(\"Error !! Key is not in Database\") #error mssg\r\n",
        "    else:\r\n",
        "        list=map[key]\r\n",
        "        if list[1]!=-1: # time to live parameter isnt -1(means its provided by user)\r\n",
        "            current_time=time.time()\r\n",
        "            if current_time<list[1]:#Expiry & current time compared\r\n",
        "                mapping=str(key)+\" : \"+str(list[0]) # Key - JSon pair returned from DB\r\n",
        "                return mapping\r\n",
        "            else:\r\n",
        "                print(\"Error !! time to live off  expired\") #error mssg\r\n",
        "        else:\r\n",
        "            mapping=str(key)+\" : \"+str(list[0])\r\n",
        "            return mapping"
      ],
      "execution_count": null,
      "outputs": []
    },
    {
      "cell_type": "markdown",
      "metadata": {
        "id": "0SlcnJl6MWyZ"
      },
      "source": [
        "Client\r\n",
        "testcase 1"
      ]
    },
    {
      "cell_type": "code",
      "metadata": {
        "colab": {
          "base_uri": "https://localhost:8080/"
        },
        "id": "HLVpDQYrMYzV",
        "outputId": "b1401168-6727-4ab1-960a-f88eb56f244b"
      },
      "source": [
        "json1={  \"brand\": \"Ford\",\r\n",
        "  \"model\": \"Mustang\",\r\n",
        "  \"year\": 1964}\r\n",
        "\r\n",
        "create(\"car\",json1)\r\n",
        "#to create a key with key & json obj given and no time-to-live property\r\n",
        "\r\n",
        "json2=[23,12]\r\n",
        "create(\"Money\",json2,200) \r\n",
        "#to create a key with key & json obj given and with time-to-live property value given(number of seconds)\r\n",
        "\r\n",
        "print(read(\"car\"))\r\n",
        "#PRINTS key in Json object format 'key_name:value'\r\n",
        "\r\n",
        "print(read(\"Money\"))\r\n",
        "#PRINTS key in Json object format 'key_name:value' if the (time to live) is not expired else it throws an ERROR !\r\n",
        "\r\n",
        "json3={\"32\":\"google\"}\r\n",
        "create(\"car\",json3)\r\n",
        "#it returns an error since the key_name already present in datastore\r\n",
        " \r\n",
        "delete(\"car\")\r\n",
        "#it deletes the given key & json obj from datastore\r\n",
        "\r\n",
        "# #Using Multi threading\r\n",
        "json4=[\"New\",\"Year\"]\r\n",
        "thread1=Thread(target=(create),args=(\"moker\",json4)) #as per the operation\r\n",
        "thread1.start()\r\n",
        "thread2=Thread(target=(delete),args=(\"moker\",)) #as per the operation\r\n",
        "thread2.start()\r\n",
        "\r\n",
        "print(\"Final datastore\",map)"
      ],
      "execution_count": null,
      "outputs": [
        {
          "output_type": "stream",
          "text": [
            "car : {'brand': 'Ford', 'model': 'Mustang', 'year': 1964}\n",
            "Money : [23, 12]\n",
            "Error !! Key is already stored\n",
            "Success! key is now deleted\n",
            "Success! key is now deleted\n",
            "Final datastore {'Money': [[23, 12], 1609224109.0574117]}\n"
          ],
          "name": "stdout"
        }
      ]
    },
    {
      "cell_type": "markdown",
      "metadata": {
        "id": "FqAnXM_LNF1d"
      },
      "source": [
        "TEST CASE 2"
      ]
    },
    {
      "cell_type": "code",
      "metadata": {
        "colab": {
          "base_uri": "https://localhost:8080/"
        },
        "id": "FgppAbo8NML5",
        "outputId": "94181a9f-0f66-4890-bafe-577d6118c902"
      },
      "source": [
        "delete(\"just_key\")\r\n",
        "\r\n",
        "json1={  \"brand\": \"Ford\",\r\n",
        "  \"model\": \"Mustang\",\r\n",
        "  \"year\": 1964}\r\n",
        "\r\n",
        "create(\"cars24\",json1)\r\n",
        "#Error! as alphanumeric key with key & json obj given and no time-to-live property\r\n",
        "\r\n",
        "json2=[23,12]\r\n",
        "create(\"Money\",json2,10) \r\n",
        "#to create a key with key & json obj given and with time-to-live property value given(number of seconds) as just 10 secs\r\n",
        "\r\n",
        "print(read(\"Money\"))\r\n",
        "#PRINTS key in Json object format 'key_name:value' if the (time to live) is not expired else it throws an ERROR !\r\n",
        "\r\n",
        "json3={\"10\":\"FreshWork\"}\r\n",
        "create(\"TechCos\",json3)\r\n",
        "\r\n",
        " \r\n",
        "\r\n",
        "print(\"Final datastore\",map)"
      ],
      "execution_count": null,
      "outputs": [
        {
          "output_type": "stream",
          "text": [
            "Error !! Key is not in Database\n",
            "Error !! Key should have alphabet only\n",
            "Error !! Key is already stored\n",
            "Money : [23, 12]\n",
            "Final datastore {'Money': [[23, 12], 1609224109.0574117], 'TechCos': [{'10': 'FreshWork'}, -1]}\n"
          ],
          "name": "stdout"
        }
      ]
    },
    {
      "cell_type": "code",
      "metadata": {
        "colab": {
          "base_uri": "https://localhost:8080/"
        },
        "id": "cd3wDj3sNUkj",
        "outputId": "1f3a2400-e2d5-41cb-917d-29000b319be1"
      },
      "source": [
        "print(read(\"Money\"))\r\n",
        "# throws error as run after 10 sec(time to live expired)"
      ],
      "execution_count": null,
      "outputs": [
        {
          "output_type": "stream",
          "text": [
            "Error !! time to live off  expired\n",
            "None\n"
          ],
          "name": "stdout"
        }
      ]
    }
  ]
}